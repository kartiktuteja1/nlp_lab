{
  "nbformat": 4,
  "nbformat_minor": 0,
  "metadata": {
    "colab": {
      "provenance": [],
      "authorship_tag": "ABX9TyM3/gq/1ydcpV/Qw+IeuWjW",
      "include_colab_link": true
    },
    "kernelspec": {
      "name": "python3",
      "display_name": "Python 3"
    },
    "language_info": {
      "name": "python"
    }
  },
  "cells": [
    {
      "cell_type": "markdown",
      "metadata": {
        "id": "view-in-github",
        "colab_type": "text"
      },
      "source": [
        "<a href=\"https://colab.research.google.com/github/kartiktuteja1/nlp_lab/blob/main/nlp_mst.ipynb\" target=\"_parent\"><img src=\"https://colab.research.google.com/assets/colab-badge.svg\" alt=\"Open In Colab\"/></a>"
      ]
    },
    {
      "cell_type": "code",
      "execution_count": 1,
      "metadata": {
        "id": "cIVxtVK0w8ZK"
      },
      "outputs": [],
      "source": [
        "story = \"\"\"In the bustling city of Veridian, amidst the sea of faces rushing through the streets, there was a girl named Maya. She was different from the rest, not just because of her vibrant turquoise hair or the way her eyes seemed to hold a universe of secrets, but because she saw the world through a lens of wonder and curiosity.\n",
        "\n",
        "Maya lived in a small apartment above her family's bookstore, where she spent most of her time lost in the pages of fantastical tales. But her real adventure began when she stumbled upon an old, dusty book hidden in the attic.\n",
        "\n",
        "The book was bound in cracked leather, its pages yellowed with age. As Maya flipped through the fragile parchment, she discovered a map tucked between the chapters. It depicted a mysterious island rumored to hold the key to unlocking ancient powers.\n",
        "\n",
        "Driven by a thirst for adventure, Maya embarked on a journey to find the island. Guided by the map's cryptic clues, she braved treacherous jungles, crossed stormy seas, and faced mythical creatures guarding the island's secrets.\n",
        "\n",
        "But when Maya finally reached the shores of the hidden island, she realized that the true power lay not in the artifacts or treasures she sought but within herself. The island was a test, a trial of courage, wit, and heart.\n",
        "\n",
        "Through her trials, Maya discovered her own strength and resilience. She learned to trust in her instincts, to embrace the unknown, and to never lose sight of her dreams.\n",
        "\n",
        "As she stood atop the island's highest peak, overlooking the vast expanse of ocean below, Maya realized that the greatest adventures were not found in distant lands or mythical realms but within the depths of her own imagination.\"\"\""
      ]
    },
    {
      "cell_type": "code",
      "source": [
        "print(len(story.split()))"
      ],
      "metadata": {
        "colab": {
          "base_uri": "https://localhost:8080/"
        },
        "id": "RXn_tuscxEuN",
        "outputId": "98f23807-7099-4388-f3c2-f7fd585eaaae"
      },
      "execution_count": 2,
      "outputs": [
        {
          "output_type": "stream",
          "name": "stdout",
          "text": [
            "286\n"
          ]
        }
      ]
    },
    {
      "cell_type": "code",
      "source": [
        "import nltk\n",
        "from nltk import FreqDist\n",
        "\n",
        "nltk.download('punkt')\n",
        "nltk.download('averaged_perceptron_tagger')\n",
        "nltk.download('maxent_ne_chunker')\n",
        "nltk.download('words')"
      ],
      "metadata": {
        "colab": {
          "base_uri": "https://localhost:8080/"
        },
        "id": "hUhKMppOxNER",
        "outputId": "53739a90-fb55-450d-cf6e-9c2afd5d6489"
      },
      "execution_count": 3,
      "outputs": [
        {
          "output_type": "stream",
          "name": "stderr",
          "text": [
            "[nltk_data] Downloading package punkt to /root/nltk_data...\n",
            "[nltk_data]   Unzipping tokenizers/punkt.zip.\n",
            "[nltk_data] Downloading package averaged_perceptron_tagger to\n",
            "[nltk_data]     /root/nltk_data...\n",
            "[nltk_data]   Unzipping taggers/averaged_perceptron_tagger.zip.\n",
            "[nltk_data] Downloading package maxent_ne_chunker to\n",
            "[nltk_data]     /root/nltk_data...\n",
            "[nltk_data]   Unzipping chunkers/maxent_ne_chunker.zip.\n",
            "[nltk_data] Downloading package words to /root/nltk_data...\n",
            "[nltk_data]   Unzipping corpora/words.zip.\n"
          ]
        },
        {
          "output_type": "execute_result",
          "data": {
            "text/plain": [
              "True"
            ]
          },
          "metadata": {},
          "execution_count": 3
        }
      ]
    },
    {
      "cell_type": "code",
      "source": [
        "sentences = nltk.sent_tokenize(story)\n",
        "sentences"
      ],
      "metadata": {
        "id": "vhBJZEZXxoI4"
      },
      "execution_count": null,
      "outputs": []
    },
    {
      "cell_type": "code",
      "source": [
        "characters = []\n",
        "for sent in sentences:\n",
        "    for chunk in nltk.ne_chunk(nltk.pos_tag(nltk.word_tokenize(sent))):\n",
        "        if hasattr(chunk, 'label') and chunk.label() == 'PERSON':\n",
        "            characters.extend(c[0] for c in chunk)\n",
        "print(f\"Characters: {characters}\")"
      ],
      "metadata": {
        "colab": {
          "base_uri": "https://localhost:8080/"
        },
        "id": "Nc01pQcUxQri",
        "outputId": "fddb2347-1293-4fcc-cfec-f149cb6427fa"
      },
      "execution_count": 8,
      "outputs": [
        {
          "output_type": "stream",
          "name": "stdout",
          "text": [
            "Characters: ['Maya', 'Maya', 'Maya', 'Maya', 'Maya', 'Maya']\n"
          ]
        }
      ]
    },
    {
      "cell_type": "code",
      "source": [
        "character_freq = FreqDist(characters)\n",
        "print(f\"Character Frequency: {character_freq}\")\n",
        "# Find the main character\n",
        "main_character = character_freq.most_common(1)[0][0]"
      ],
      "metadata": {
        "colab": {
          "base_uri": "https://localhost:8080/"
        },
        "id": "9p_9fDZ-xVpX",
        "outputId": "04a907fe-927a-4eb0-ef9a-8ed39c2af32f"
      },
      "execution_count": 5,
      "outputs": [
        {
          "output_type": "stream",
          "name": "stdout",
          "text": [
            "Character Frequency: <FreqDist with 1 samples and 6 outcomes>\n"
          ]
        }
      ]
    },
    {
      "cell_type": "code",
      "source": [
        "print(f\"Main character: {main_character}\")"
      ],
      "metadata": {
        "colab": {
          "base_uri": "https://localhost:8080/"
        },
        "id": "TqJaT7oIxXxa",
        "outputId": "82e85d42-f85f-453b-c649-dc42f1c6ae0a"
      },
      "execution_count": 6,
      "outputs": [
        {
          "output_type": "stream",
          "name": "stdout",
          "text": [
            "Main character: Maya\n"
          ]
        }
      ]
    }
  ]
}